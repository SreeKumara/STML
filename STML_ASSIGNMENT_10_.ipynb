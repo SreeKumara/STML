{
  "nbformat": 4,
  "nbformat_minor": 0,
  "metadata": {
    "colab": {
      "provenance": [],
      "authorship_tag": "ABX9TyPXckfu8KCpdMnhc4OsP3CL",
      "include_colab_link": true
    },
    "kernelspec": {
      "name": "python3",
      "display_name": "Python 3"
    },
    "language_info": {
      "name": "python"
    }
  },
  "cells": [
    {
      "cell_type": "markdown",
      "metadata": {
        "id": "view-in-github",
        "colab_type": "text"
      },
      "source": [
        "<a href=\"https://colab.research.google.com/github/SreeKumara/STML/blob/main/STML_ASSIGNMENT_10_.ipynb\" target=\"_parent\"><img src=\"https://colab.research.google.com/assets/colab-badge.svg\" alt=\"Open In Colab\"/></a>"
      ]
    },
    {
      "cell_type": "code",
      "execution_count": 27,
      "metadata": {
        "id": "0b37MxC_p11v"
      },
      "outputs": [],
      "source": [
        "import pandas as pd\n",
        "from sklearn.model_selection import train_test_split\n",
        "from sklearn.preprocessing import LabelEncoder, StandardScaler\n",
        "from sklearn.neighbors import KNeighborsClassifier\n",
        "from sklearn.metrics import accuracy_score\n",
        "from sklearn.svm import SVC"
      ]
    },
    {
      "cell_type": "code",
      "source": [
        "data = pd.read_csv('/content/breast_cancer_survival.csv')\n",
        "print(data.head())"
      ],
      "metadata": {
        "colab": {
          "base_uri": "https://localhost:8080/"
        },
        "id": "ciQk1HaGxzvH",
        "outputId": "90c9c152-78ca-4a76-dbfc-0f3309e150f5"
      },
      "execution_count": 28,
      "outputs": [
        {
          "output_type": "stream",
          "name": "stdout",
          "text": [
            "   Age  Gender  Protein1  Protein2  Protein3  Protein4 Tumour_Stage  \\\n",
            "0   42  FEMALE   0.95256   2.15000  0.007972 -0.048340           II   \n",
            "1   54  FEMALE   0.00000   1.38020 -0.498030 -0.507320           II   \n",
            "2   63  FEMALE  -0.52303   1.76400 -0.370190  0.010815           II   \n",
            "3   78  FEMALE  -0.87618   0.12943 -0.370380  0.132190            I   \n",
            "4   42  FEMALE   0.22611   1.74910 -0.543970 -0.390210           II   \n",
            "\n",
            "                       Histology ER status PR status HER2 status Surgery_type  \\\n",
            "0  Infiltrating Ductal Carcinoma  Positive  Positive    Negative        Other   \n",
            "1  Infiltrating Ductal Carcinoma  Positive  Positive    Negative        Other   \n",
            "2  Infiltrating Ductal Carcinoma  Positive  Positive    Negative   Lumpectomy   \n",
            "3  Infiltrating Ductal Carcinoma  Positive  Positive    Negative        Other   \n",
            "4  Infiltrating Ductal Carcinoma  Positive  Positive    Positive   Lumpectomy   \n",
            "\n",
            "  Date_of_Surgery Date_of_Last_Visit Patient_Status  \n",
            "0       20-May-18          26-Aug-18          Alive  \n",
            "1       26-Apr-18          25-Jan-19           Dead  \n",
            "2       24-Aug-18          08-Apr-20          Alive  \n",
            "3       16-Nov-18          28-Jul-20          Alive  \n",
            "4       12-Dec-18          05-Jan-19          Alive  \n"
          ]
        }
      ]
    },
    {
      "cell_type": "code",
      "source": [
        "label_enc = LabelEncoder()\n",
        "data['Gender'] = label_enc.fit_transform(data['Gender'])\n",
        "data['Tumour_Stage'] = label_enc.fit_transform(data['Tumour_Stage'])\n",
        "data['Histology'] = label_enc.fit_transform(data['Histology'])\n",
        "data['ER status'] = label_enc.fit_transform(data['ER status'])\n",
        "data['PR status'] = label_enc.fit_transform(data['PR status'])\n",
        "data['HER2 status'] = label_enc.fit_transform(data['HER2 status'])\n",
        "data['Surgery_type'] = label_enc.fit_transform(data['Surgery_type'])\n",
        "data['Patient_Status'] = label_enc.fit_transform(data['Patient_Status'])"
      ],
      "metadata": {
        "id": "ldkXUB-2yQoN"
      },
      "execution_count": 29,
      "outputs": []
    },
    {
      "cell_type": "code",
      "source": [
        "features = data.drop(['Patient_Status', 'Date_of_Surgery', 'Date_of_Last_Visit'], axis=1)\n",
        "target = data['Patient_Status']"
      ],
      "metadata": {
        "id": "C-ijIaqcyVuY"
      },
      "execution_count": 30,
      "outputs": []
    },
    {
      "cell_type": "code",
      "source": [
        "scaler = StandardScaler()\n",
        "features_scaled = scaler.fit_transform(features)"
      ],
      "metadata": {
        "id": "qANKNEYDyhjo"
      },
      "execution_count": 31,
      "outputs": []
    },
    {
      "cell_type": "code",
      "source": [
        "# Question 1"
      ],
      "metadata": {
        "id": "0w9TUdyCyzkW"
      },
      "execution_count": 32,
      "outputs": []
    },
    {
      "cell_type": "code",
      "source": [
        "def evaluate_svm(test_size):\n",
        "    X_train, X_test, y_train, y_test = train_test_split(features_scaled, target, test_size=test_size/100, random_state=42)\n",
        "    svm = SVC()\n",
        "    svm.fit(X_train, y_train)\n",
        "    y_pred = svm.predict(X_test)\n",
        "    accuracy = accuracy_score(y_test, y_pred)\n",
        "    return accuracy"
      ],
      "metadata": {
        "id": "gYwUoM6Iy5s4"
      },
      "execution_count": 33,
      "outputs": []
    },
    {
      "cell_type": "code",
      "source": [
        "svm_accuracies = {f\"{size}%\": evaluate_svm(size) for size in test_sizes}"
      ],
      "metadata": {
        "id": "8iPL0XsYy9Pq"
      },
      "execution_count": 34,
      "outputs": []
    },
    {
      "cell_type": "code",
      "source": [
        "print(\"\\nSVM Model Accuracies for Different Test Sizes:\")\n",
        "for size, acc in svm_accuracies.items():\n",
        "    print(f\"Test Size {size}: {acc:.2f}\")"
      ],
      "metadata": {
        "colab": {
          "base_uri": "https://localhost:8080/"
        },
        "id": "lr-pUL2Hy_WW",
        "outputId": "c23e0adf-ecef-4cc2-b204-456128d31772"
      },
      "execution_count": 35,
      "outputs": [
        {
          "output_type": "stream",
          "name": "stdout",
          "text": [
            "\n",
            "SVM Model Accuracies for Different Test Sizes:\n",
            "Test Size 20%: 0.78\n",
            "Test Size 25%: 0.77\n",
            "Test Size 30%: 0.78\n",
            "Test Size 35%: 0.79\n"
          ]
        }
      ]
    },
    {
      "cell_type": "code",
      "source": [
        "# Question 2"
      ],
      "metadata": {
        "id": "AFDlwrozylfb"
      },
      "execution_count": 36,
      "outputs": []
    },
    {
      "cell_type": "code",
      "source": [
        "def evaluate_knn(test_size):\n",
        "    X_train, X_test, y_train, y_test = train_test_split(features_scaled, target, test_size=test_size/100, random_state=42)\n",
        "    knn = KNeighborsClassifier()\n",
        "    knn.fit(X_train, y_train)\n",
        "    y_pred = knn.predict(X_test)\n",
        "    accuracy = accuracy_score(y_test, y_pred)\n",
        "    return accuracy"
      ],
      "metadata": {
        "id": "gxE1rDE0ykin"
      },
      "execution_count": 37,
      "outputs": []
    },
    {
      "cell_type": "code",
      "source": [
        "test_sizes = [20, 25, 30, 35]\n",
        "knn_accuracies = {f\"{size}%\": evaluate_knn(size) for size in test_sizes}"
      ],
      "metadata": {
        "id": "vHMs14afysuh"
      },
      "execution_count": 38,
      "outputs": []
    },
    {
      "cell_type": "code",
      "source": [
        "print(\"KNN Model Accuracies for Different Test Sizes:\")\n",
        "for size, acc in knn_accuracies.items():\n",
        "    print(f\"Test Size {size}: {acc:.2f}\")"
      ],
      "metadata": {
        "colab": {
          "base_uri": "https://localhost:8080/"
        },
        "id": "Bp0IBO6Jywn1",
        "outputId": "b27d179e-d9bb-42f4-f2d0-8ddb45352f37"
      },
      "execution_count": 39,
      "outputs": [
        {
          "output_type": "stream",
          "name": "stdout",
          "text": [
            "KNN Model Accuracies for Different Test Sizes:\n",
            "Test Size 20%: 0.73\n",
            "Test Size 25%: 0.74\n",
            "Test Size 30%: 0.73\n",
            "Test Size 35%: 0.73\n"
          ]
        }
      ]
    }
  ]
}