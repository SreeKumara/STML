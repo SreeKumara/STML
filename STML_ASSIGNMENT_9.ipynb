{
  "nbformat": 4,
  "nbformat_minor": 0,
  "metadata": {
    "colab": {
      "provenance": [],
      "authorship_tag": "ABX9TyO9fQcbQcfcVmjy6CRZeZNZ",
      "include_colab_link": true
    },
    "kernelspec": {
      "name": "python3",
      "display_name": "Python 3"
    },
    "language_info": {
      "name": "python"
    }
  },
  "cells": [
    {
      "cell_type": "markdown",
      "metadata": {
        "id": "view-in-github",
        "colab_type": "text"
      },
      "source": [
        "<a href=\"https://colab.research.google.com/github/SreeKumara/STML/blob/main/STML_ASSIGNMENT_9.ipynb\" target=\"_parent\"><img src=\"https://colab.research.google.com/assets/colab-badge.svg\" alt=\"Open In Colab\"/></a>"
      ]
    },
    {
      "cell_type": "code",
      "source": [
        "import pandas as pd\n",
        "from sklearn.model_selection import train_test_split\n",
        "from sklearn.preprocessing import LabelEncoder, StandardScaler\n",
        "from sklearn.neighbors import KNeighborsClassifier\n",
        "from sklearn.linear_model import LogisticRegression\n",
        "from sklearn.metrics import accuracy_score"
      ],
      "metadata": {
        "id": "DEmziKKc1fkw"
      },
      "execution_count": null,
      "outputs": []
    },
    {
      "cell_type": "code",
      "source": [
        "data = pd.read_csv('/content/breast_cancer_survival.csv')\n",
        "print(data.head())"
      ],
      "metadata": {
        "colab": {
          "base_uri": "https://localhost:8080/"
        },
        "id": "dPC1u4He1jXq",
        "outputId": "ef0c2d69-2518-400e-9dc2-42f30a207280"
      },
      "execution_count": null,
      "outputs": [
        {
          "output_type": "stream",
          "name": "stdout",
          "text": [
            "   Age  Gender  Protein1  Protein2  Protein3  Protein4 Tumour_Stage  \\\n",
            "0   42  FEMALE   0.95256   2.15000  0.007972 -0.048340           II   \n",
            "1   54  FEMALE   0.00000   1.38020 -0.498030 -0.507320           II   \n",
            "2   63  FEMALE  -0.52303   1.76400 -0.370190  0.010815           II   \n",
            "3   78  FEMALE  -0.87618   0.12943 -0.370380  0.132190            I   \n",
            "4   42  FEMALE   0.22611   1.74910 -0.543970 -0.390210           II   \n",
            "\n",
            "                       Histology ER status PR status HER2 status Surgery_type  \\\n",
            "0  Infiltrating Ductal Carcinoma  Positive  Positive    Negative        Other   \n",
            "1  Infiltrating Ductal Carcinoma  Positive  Positive    Negative        Other   \n",
            "2  Infiltrating Ductal Carcinoma  Positive  Positive    Negative   Lumpectomy   \n",
            "3  Infiltrating Ductal Carcinoma  Positive  Positive    Negative        Other   \n",
            "4  Infiltrating Ductal Carcinoma  Positive  Positive    Positive   Lumpectomy   \n",
            "\n",
            "  Date_of_Surgery Date_of_Last_Visit Patient_Status  \n",
            "0       20-May-18          26-Aug-18          Alive  \n",
            "1       26-Apr-18          25-Jan-19           Dead  \n",
            "2       24-Aug-18          08-Apr-20          Alive  \n",
            "3       16-Nov-18          28-Jul-20          Alive  \n",
            "4       12-Dec-18          05-Jan-19          Alive  \n"
          ]
        }
      ]
    },
    {
      "cell_type": "code",
      "source": [
        "label_enc = LabelEncoder()\n",
        "data['Gender'] = label_enc.fit_transform(data['Gender'])\n",
        "data['Tumour_Stage'] = label_enc.fit_transform(data['Tumour_Stage'])\n",
        "data['Histology'] = label_enc.fit_transform(data['Histology'])\n",
        "data['ER status'] = label_enc.fit_transform(data['ER status'])\n",
        "data['PR status'] = label_enc.fit_transform(data['PR status'])\n",
        "data['HER2 status'] = label_enc.fit_transform(data['HER2 status'])\n",
        "data['Surgery_type'] = label_enc.fit_transform(data['Surgery_type'])\n",
        "data['Patient_Status'] = label_enc.fit_transform(data['Patient_Status'])"
      ],
      "metadata": {
        "id": "ja36EOve2nmK"
      },
      "execution_count": null,
      "outputs": []
    },
    {
      "cell_type": "code",
      "source": [
        "features = data.drop(['Patient_Status', 'Date_of_Surgery', 'Date_of_Last_Visit'], axis=1)\n",
        "target = data['Patient_Status']"
      ],
      "metadata": {
        "id": "l07FlVlU2oGu"
      },
      "execution_count": null,
      "outputs": []
    },
    {
      "cell_type": "code",
      "execution_count": null,
      "metadata": {
        "id": "8hWix-QJ1SwQ"
      },
      "outputs": [],
      "source": [
        "# Question 1"
      ]
    },
    {
      "cell_type": "code",
      "source": [
        "scaler = StandardScaler()\n",
        "features_scaled = scaler.fit_transform(features)"
      ],
      "metadata": {
        "id": "2lQNzgwz2wIV"
      },
      "execution_count": null,
      "outputs": []
    },
    {
      "cell_type": "code",
      "source": [
        "def evaluate_knn(test_size):\n",
        "    X_train, X_test, y_train, y_test = train_test_split(features_scaled, target, test_size=test_size/100, random_state=42)\n",
        "    knn = KNeighborsClassifier()\n",
        "    knn.fit(X_train, y_train)\n",
        "    y_pred = knn.predict(X_test)\n",
        "    accuracy = accuracy_score(y_test, y_pred)\n",
        "    return accuracy"
      ],
      "metadata": {
        "id": "B-I5XkRO3bIl"
      },
      "execution_count": null,
      "outputs": []
    },
    {
      "cell_type": "code",
      "source": [
        "test_sizes = [20, 25, 30, 35]\n",
        "knn_accuracies = {f\"{size}%\": evaluate_knn(size) for size in test_sizes}"
      ],
      "metadata": {
        "id": "Wkedxg1Y3dcS"
      },
      "execution_count": null,
      "outputs": []
    },
    {
      "cell_type": "code",
      "source": [
        "print(\"KNN Model Accuracies for Different Test Sizes:\")\n",
        "for size, acc in knn_accuracies.items():\n",
        "    print(f\"Test Size {size}: {acc:.2f}\")"
      ],
      "metadata": {
        "colab": {
          "base_uri": "https://localhost:8080/"
        },
        "id": "qMRmRoKO3fwl",
        "outputId": "b43c7b96-d1ca-4735-8ea2-d24025f30653"
      },
      "execution_count": null,
      "outputs": [
        {
          "output_type": "stream",
          "name": "stdout",
          "text": [
            "KNN Model Accuracies for Different Test Sizes:\n",
            "Test Size 20%: 0.73\n",
            "Test Size 25%: 0.74\n",
            "Test Size 30%: 0.73\n",
            "Test Size 35%: 0.73\n"
          ]
        }
      ]
    },
    {
      "cell_type": "code",
      "source": [
        "# Question 2"
      ],
      "metadata": {
        "id": "PG920CMS3h_P"
      },
      "execution_count": null,
      "outputs": []
    },
    {
      "cell_type": "code",
      "source": [
        "features = pd.get_dummies(features, drop_first=True)"
      ],
      "metadata": {
        "id": "2j5y29ug3j8C"
      },
      "execution_count": null,
      "outputs": []
    },
    {
      "cell_type": "code",
      "source": [
        "def evaluate_logistic_regression(test_size):\n",
        "    X_train, X_test, y_train, y_test = train_test_split(features, target, test_size=test_size/100, random_state=42)\n",
        "    model = LogisticRegression(max_iter=1000)\n",
        "    model.fit(X_train, y_train)\n",
        "    y_pred = model.predict(X_test)\n",
        "    accuracy = accuracy_score(y_test, y_pred)\n",
        "    return accuracy"
      ],
      "metadata": {
        "id": "Iw7ctffk3ncC"
      },
      "execution_count": null,
      "outputs": []
    },
    {
      "cell_type": "code",
      "source": [
        "test_sizes = [20, 25, 30, 35]\n",
        "logistic_accuracies = {f\"{size}%\": evaluate_logistic_regression(size) for size in test_sizes}"
      ],
      "metadata": {
        "id": "MVLSree33q_V"
      },
      "execution_count": null,
      "outputs": []
    },
    {
      "cell_type": "code",
      "source": [
        "print(\"\\nLogistic Regression Model Accuracies for Different Test Sizes:\")\n",
        "for size, acc in logistic_accuracies.items():\n",
        "    print(f\"Test Size {size}: {acc:.2f}\")"
      ],
      "metadata": {
        "colab": {
          "base_uri": "https://localhost:8080/"
        },
        "id": "FI7KzbWf3u6C",
        "outputId": "88cc6a1e-1233-45ce-aa29-5194d279d2cc"
      },
      "execution_count": null,
      "outputs": [
        {
          "output_type": "stream",
          "name": "stdout",
          "text": [
            "\n",
            "Logistic Regression Model Accuracies for Different Test Sizes:\n",
            "Test Size 20%: 0.78\n",
            "Test Size 25%: 0.77\n",
            "Test Size 30%: 0.78\n",
            "Test Size 35%: 0.79\n"
          ]
        }
      ]
    }
  ]
}